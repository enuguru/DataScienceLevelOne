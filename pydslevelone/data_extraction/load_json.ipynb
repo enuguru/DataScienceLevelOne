{
 "cells": [
  {
   "cell_type": "code",
   "execution_count": 1,
   "metadata": {
    "ExecuteTime": {
     "end_time": "2020-09-11T10:17:48.898093Z",
     "start_time": "2020-09-11T10:17:48.879088Z"
    }
   },
   "outputs": [
    {
     "name": "stdout",
     "output_type": "stream",
     "text": [
      "{'quiz': {'sport': {'q1': {'question': 'Which one is correct team name in NBA?', 'options': ['New York Bulls', 'Los Angeles Kings', 'Golden State Warriros', 'Huston Rocket'], 'answer': 'Huston Rocket'}}, 'maths': {'q1': {'question': '5 + 7 = ?', 'options': ['10', '11', '12', '13'], 'answer': '12'}, 'q2': {'question': '12 - 8 = ?', 'options': ['1', '2', '3', '4'], 'answer': '4'}}}}\n"
     ]
    }
   ],
   "source": [
    "# reading from a json file\n",
    "import json\n",
    "with open('example_2.json') as f:\n",
    "  data = json.load(f)\n",
    "\n",
    "print(data)"
   ]
  },
  {
   "cell_type": "code",
   "execution_count": 2,
   "metadata": {
    "ExecuteTime": {
     "end_time": "2020-09-11T10:17:49.467642Z",
     "start_time": "2020-09-11T10:17:49.457648Z"
    }
   },
   "outputs": [],
   "source": [
    "# writing to a json file\n",
    "person_dict = {\"name\": \"Bob\",\n",
    "\"languages\": [\"English\", \"Fench\"],\n",
    "\"married\": True,\n",
    "\"age\": 32\n",
    "}\n",
    "\n",
    "with open('person.txt', 'w') as json_file:\n",
    "  json.dump(person_dict, json_file)"
   ]
  },
  {
   "cell_type": "code",
   "execution_count": 3,
   "metadata": {
    "ExecuteTime": {
     "end_time": "2020-09-11T10:17:50.069491Z",
     "start_time": "2020-09-11T10:17:50.050505Z"
    }
   },
   "outputs": [],
   "source": [
    "with open('person.txt') as f:\n",
    "  data = json.load(f)"
   ]
  },
  {
   "cell_type": "code",
   "execution_count": 4,
   "metadata": {
    "ExecuteTime": {
     "end_time": "2020-09-11T10:17:51.298884Z",
     "start_time": "2020-09-11T10:17:51.272898Z"
    }
   },
   "outputs": [
    {
     "data": {
      "text/plain": [
       "{'name': 'Bob', 'languages': ['English', 'Fench'], 'married': True, 'age': 32}"
      ]
     },
     "execution_count": 4,
     "metadata": {},
     "output_type": "execute_result"
    }
   ],
   "source": [
    "data"
   ]
  },
  {
   "cell_type": "code",
   "execution_count": null,
   "metadata": {},
   "outputs": [],
   "source": []
  }
 ],
 "metadata": {
  "kernelspec": {
   "display_name": "Python 3 (ipykernel)",
   "language": "python",
   "name": "python3"
  },
  "language_info": {
   "codemirror_mode": {
    "name": "ipython",
    "version": 3
   },
   "file_extension": ".py",
   "mimetype": "text/x-python",
   "name": "python",
   "nbconvert_exporter": "python",
   "pygments_lexer": "ipython3",
   "version": "3.10.9"
  }
 },
 "nbformat": 4,
 "nbformat_minor": 2
}
