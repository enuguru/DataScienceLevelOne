{
 "cells": [
  {
   "cell_type": "code",
   "execution_count": null,
   "metadata": {
    "ExecuteTime": {
     "end_time": "2020-09-05T05:13:01.206613Z",
     "start_time": "2020-09-05T05:13:01.188623Z"
    }
   },
   "outputs": [],
   "source": [
    "# Load CSV Using Python Standard Library\n",
    "import csv"
   ]
  },
  {
   "cell_type": "code",
   "execution_count": null,
   "metadata": {
    "ExecuteTime": {
     "end_time": "2020-09-05T05:13:01.804956Z",
     "start_time": "2020-09-05T05:13:01.783947Z"
    }
   },
   "outputs": [],
   "source": [
    "# Load CSV Using Python Standard Library\n",
    "filename = 'pima-indians-diabetes.data.csv'\n",
    "raw_data = open(filename, 'rt')\n",
    "reader = csv.reader(raw_data, delimiter=',')"
   ]
  },
  {
   "cell_type": "code",
   "execution_count": null,
   "metadata": {
    "ExecuteTime": {
     "end_time": "2020-09-05T05:13:02.901805Z",
     "start_time": "2020-09-05T05:13:02.781874Z"
    }
   },
   "outputs": [],
   "source": [
    "for line in reader:\n",
    "    print(line)"
   ]
  },
  {
   "cell_type": "code",
   "execution_count": null,
   "metadata": {
    "ExecuteTime": {
     "end_time": "2020-09-05T05:13:05.658521Z",
     "start_time": "2020-09-05T05:13:04.313238Z"
    }
   },
   "outputs": [],
   "source": [
    "import csv\n",
    "with open('large.csv','w') as f1:\n",
    "    writer=csv.writer(f1, delimiter=',',lineterminator='\\n',)\n",
    "    f = open('pima-indians-diabetes.data.csv')\n",
    "    csv_f = csv.reader(f)\n",
    "    for row in csv_f:\n",
    "        print(row[0],row[1],row[2],row[3],row[4],row[5],row[6],row[7],row[8])\n",
    "        writer.writerow(row)"
   ]
  },
  {
   "cell_type": "code",
   "execution_count": null,
   "metadata": {
    "ExecuteTime": {
     "end_time": "2020-09-05T05:13:16.046375Z",
     "start_time": "2020-09-05T05:13:16.026387Z"
    }
   },
   "outputs": [],
   "source": [
    "# load python using numpy\n",
    "with open(\"stocks.tsv\") as tsvfile:\n",
    "    tsvreader = csv.reader(tsvfile, delimiter='\\t')\n",
    "    for line in tsvreader:\n",
    "        print(line[1:])"
   ]
  },
  {
   "cell_type": "code",
   "execution_count": null,
   "metadata": {},
   "outputs": [],
   "source": []
  },
  {
   "cell_type": "code",
   "execution_count": null,
   "metadata": {},
   "outputs": [],
   "source": []
  }
 ],
 "metadata": {
  "kernelspec": {
   "display_name": "Python 3 (ipykernel)",
   "language": "python",
   "name": "python3"
  },
  "language_info": {
   "codemirror_mode": {
    "name": "ipython",
    "version": 3
   },
   "file_extension": ".py",
   "mimetype": "text/x-python",
   "name": "python",
   "nbconvert_exporter": "python",
   "pygments_lexer": "ipython3",
   "version": "3.10.9"
  }
 },
 "nbformat": 4,
 "nbformat_minor": 2
}
