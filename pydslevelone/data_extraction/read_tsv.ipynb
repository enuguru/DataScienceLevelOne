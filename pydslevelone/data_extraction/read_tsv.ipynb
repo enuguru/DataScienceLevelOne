{
 "cells": [
  {
   "cell_type": "code",
   "execution_count": 3,
   "metadata": {
    "ExecuteTime": {
     "end_time": "2021-02-17T01:42:13.795332Z",
     "start_time": "2021-02-17T01:42:13.781342Z"
    }
   },
   "outputs": [],
   "source": [
    "# load python using pandas\n",
    "import pandas as pd"
   ]
  },
  {
   "cell_type": "code",
   "execution_count": 4,
   "metadata": {
    "ExecuteTime": {
     "end_time": "2021-02-17T01:42:14.447590Z",
     "start_time": "2021-02-17T01:42:14.438575Z"
    }
   },
   "outputs": [],
   "source": [
    "filename = 'stocks.tsv'\n",
    "defined_names = ['Price', 'Date', 'Time', 'Change', 'Volume']\n",
    "stocks = pd.read_table(filename,names=defined_names)"
   ]
  },
  {
   "cell_type": "code",
   "execution_count": 5,
   "metadata": {
    "ExecuteTime": {
     "end_time": "2021-02-17T01:42:15.162758Z",
     "start_time": "2021-02-17T01:42:15.144770Z"
    }
   },
   "outputs": [
    {
     "data": {
      "text/plain": [
       "(7, 5)"
      ]
     },
     "execution_count": 5,
     "metadata": {},
     "output_type": "execute_result"
    }
   ],
   "source": [
    "stocks.shape"
   ]
  },
  {
   "cell_type": "code",
   "execution_count": 6,
   "metadata": {
    "ExecuteTime": {
     "end_time": "2021-02-17T01:42:15.894833Z",
     "start_time": "2021-02-17T01:42:15.868852Z"
    }
   },
   "outputs": [
    {
     "data": {
      "text/html": [
       "<div>\n",
       "<style scoped>\n",
       "    .dataframe tbody tr th:only-of-type {\n",
       "        vertical-align: middle;\n",
       "    }\n",
       "\n",
       "    .dataframe tbody tr th {\n",
       "        vertical-align: top;\n",
       "    }\n",
       "\n",
       "    .dataframe thead th {\n",
       "        text-align: right;\n",
       "    }\n",
       "</style>\n",
       "<table border=\"1\" class=\"dataframe\">\n",
       "  <thead>\n",
       "    <tr style=\"text-align: right;\">\n",
       "      <th></th>\n",
       "      <th>Price</th>\n",
       "      <th>Date</th>\n",
       "      <th>Time</th>\n",
       "      <th>Change</th>\n",
       "      <th>Volume</th>\n",
       "    </tr>\n",
       "  </thead>\n",
       "  <tbody>\n",
       "    <tr>\n",
       "      <th>Symbol</th>\n",
       "      <td>Price</td>\n",
       "      <td>Date</td>\n",
       "      <td>Time</td>\n",
       "      <td>Change</td>\n",
       "      <td>Volume</td>\n",
       "    </tr>\n",
       "    <tr>\n",
       "      <th>AA</th>\n",
       "      <td>39.48</td>\n",
       "      <td>6/11/2007</td>\n",
       "      <td>9:36am</td>\n",
       "      <td>-0.18</td>\n",
       "      <td>181800</td>\n",
       "    </tr>\n",
       "    <tr>\n",
       "      <th>AIG</th>\n",
       "      <td>71.38</td>\n",
       "      <td>6/11/2007</td>\n",
       "      <td>9:36am</td>\n",
       "      <td>-0.15</td>\n",
       "      <td>195500</td>\n",
       "    </tr>\n",
       "    <tr>\n",
       "      <th>AXP</th>\n",
       "      <td>62.58</td>\n",
       "      <td>6/11/2007</td>\n",
       "      <td>9:36am</td>\n",
       "      <td>-0.46</td>\n",
       "      <td>935000</td>\n",
       "    </tr>\n",
       "    <tr>\n",
       "      <th>BA</th>\n",
       "      <td>98.31</td>\n",
       "      <td>6/11/2007</td>\n",
       "      <td>9:36am</td>\n",
       "      <td>+0.12</td>\n",
       "      <td>104800</td>\n",
       "    </tr>\n",
       "    <tr>\n",
       "      <th>C</th>\n",
       "      <td>53.08</td>\n",
       "      <td>6/11/2007</td>\n",
       "      <td>9:36am</td>\n",
       "      <td>-0.25</td>\n",
       "      <td>360900</td>\n",
       "    </tr>\n",
       "    <tr>\n",
       "      <th>CAT</th>\n",
       "      <td>78.29</td>\n",
       "      <td>6/11/2007</td>\n",
       "      <td>9:36am</td>\n",
       "      <td>-0.23</td>\n",
       "      <td>225400</td>\n",
       "    </tr>\n",
       "  </tbody>\n",
       "</table>\n",
       "</div>"
      ],
      "text/plain": [
       "        Price       Date    Time  Change  Volume\n",
       "Symbol  Price       Date    Time  Change  Volume\n",
       "AA      39.48  6/11/2007  9:36am   -0.18  181800\n",
       "AIG     71.38  6/11/2007  9:36am   -0.15  195500\n",
       "AXP     62.58  6/11/2007  9:36am   -0.46  935000\n",
       "BA      98.31  6/11/2007  9:36am   +0.12  104800\n",
       "C       53.08  6/11/2007  9:36am   -0.25  360900\n",
       "CAT     78.29  6/11/2007  9:36am   -0.23  225400"
      ]
     },
     "execution_count": 6,
     "metadata": {},
     "output_type": "execute_result"
    }
   ],
   "source": [
    "stocks"
   ]
  },
  {
   "cell_type": "code",
   "execution_count": 7,
   "metadata": {},
   "outputs": [],
   "source": [
    "# read_csv, read_excel, read_table"
   ]
  },
  {
   "cell_type": "code",
   "execution_count": null,
   "metadata": {},
   "outputs": [],
   "source": []
  }
 ],
 "metadata": {
  "kernelspec": {
   "display_name": "Python 3 (ipykernel)",
   "language": "python",
   "name": "python3"
  },
  "language_info": {
   "codemirror_mode": {
    "name": "ipython",
    "version": 3
   },
   "file_extension": ".py",
   "mimetype": "text/x-python",
   "name": "python",
   "nbconvert_exporter": "python",
   "pygments_lexer": "ipython3",
   "version": "3.10.9"
  }
 },
 "nbformat": 4,
 "nbformat_minor": 2
}
