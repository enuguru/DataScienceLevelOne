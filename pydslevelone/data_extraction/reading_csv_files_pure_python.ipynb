{
 "cells": [
  {
   "cell_type": "code",
   "execution_count": 23,
   "metadata": {
    "ExecuteTime": {
     "end_time": "2020-09-11T10:25:49.425661Z",
     "start_time": "2020-09-11T10:25:49.416665Z"
    }
   },
   "outputs": [
    {
     "name": "stdout",
     "output_type": "stream",
     "text": [
      "Reading as lists:\n"
     ]
    }
   ],
   "source": [
    "import csv\n",
    "# (a) Reading as lists\n",
    "print('Reading as lists:')"
   ]
  },
  {
   "cell_type": "code",
   "execution_count": 24,
   "metadata": {
    "ExecuteTime": {
     "end_time": "2020-09-11T10:28:23.100339Z",
     "start_time": "2020-09-11T10:28:23.083357Z"
    }
   },
   "outputs": [
    {
     "name": "stdout",
     "output_type": "stream",
     "text": [
      "     ['symbol', 'open', 'high', 'low', 'close', 'volume']\n",
      "     ['AAL', '49', '49.1', '48.47', '48.63', '11901883']\n",
      "     ['AAPL', '145.13', '147.16', '145.11', '146.28', '33917635']\n",
      "     ['ADBE', '143.75', '145.59', '143.06', '145.41', '3383524']\n",
      "     ['AMZN', '1002.54', '1004.62', '998.02', '1003.74', '2832807']\n",
      "     ['GOOGL', '975.5', '986.62', '974.46', '986.09', '1524905']\n",
      "     ['MAT', '20.22', '20.75', '20.11', '20.68', '10603967']\n",
      "     ['MSFT', '70.09', '71.25', '69.92', '71.21', '26803888']\n",
      "     ['NTES', '320', '333.78', '319', '333.56', '1356386']\n"
     ]
    }
   ],
   "source": [
    "with open('stocks.csv') as f:\n",
    "    f_csv = csv.reader(f)\n",
    "    headers = next(f_csv)\n",
    "    print(\"    \",headers)\n",
    "    for row in f_csv:\n",
    "        print('    ', row)"
   ]
  },
  {
   "cell_type": "code",
   "execution_count": 25,
   "metadata": {
    "ExecuteTime": {
     "end_time": "2020-09-11T10:28:46.666114Z",
     "start_time": "2020-09-11T10:28:46.647126Z"
    }
   },
   "outputs": [],
   "source": [
    "with open('stocks.csv') as text_file, open('stockswrite.csv', 'w') as myfile:  \n",
    "    for line in text_file:\n",
    "        myfile.write(line)"
   ]
  },
  {
   "cell_type": "code",
   "execution_count": 26,
   "metadata": {
    "ExecuteTime": {
     "end_time": "2020-09-11T10:29:06.538595Z",
     "start_time": "2020-09-11T10:29:06.499618Z"
    }
   },
   "outputs": [
    {
     "data": {
      "text/plain": [
       "[('symbol', 'open', 'high', 'low', 'close', 'volume\\n'),\n",
       " ('AAL', '49', '49.1', '48.47', '48.63', '11901883\\n'),\n",
       " ('AAPL', '145.13', '147.16', '145.11', '146.28', '33917635\\n'),\n",
       " ('ADBE', '143.75', '145.59', '143.06', '145.41', '3383524\\n'),\n",
       " ('AMZN', '1002.54', '1004.62', '998.02', '1003.74', '2832807\\n'),\n",
       " ('GOOGL', '975.5', '986.62', '974.46', '986.09', '1524905\\n'),\n",
       " ('MAT', '20.22', '20.75', '20.11', '20.68', '10603967\\n'),\n",
       " ('MSFT', '70.09', '71.25', '69.92', '71.21', '26803888\\n'),\n",
       " ('NTES', '320', '333.78', '319', '333.56', '1356386\\n')]"
      ]
     },
     "execution_count": 26,
     "metadata": {},
     "output_type": "execute_result"
    }
   ],
   "source": [
    "with open('stocks.csv') as f:\n",
    "    mylist = [tuple(i.split(',')) for i in f]\n",
    "mylist"
   ]
  },
  {
   "cell_type": "code",
   "execution_count": 27,
   "metadata": {
    "ExecuteTime": {
     "end_time": "2020-09-11T10:29:13.723321Z",
     "start_time": "2020-09-11T10:29:13.705331Z"
    }
   },
   "outputs": [
    {
     "name": "stdout",
     "output_type": "stream",
     "text": [
      "Reading as named tuples\n",
      "     Row(symbol='AAL', open='49', high='49.1', low='48.47', close='48.63', volume='11901883')\n",
      "     Row(symbol='AAPL', open='145.13', high='147.16', low='145.11', close='146.28', volume='33917635')\n",
      "     Row(symbol='ADBE', open='143.75', high='145.59', low='143.06', close='145.41', volume='3383524')\n",
      "     Row(symbol='AMZN', open='1002.54', high='1004.62', low='998.02', close='1003.74', volume='2832807')\n",
      "     Row(symbol='GOOGL', open='975.5', high='986.62', low='974.46', close='986.09', volume='1524905')\n",
      "     Row(symbol='MAT', open='20.22', high='20.75', low='20.11', close='20.68', volume='10603967')\n",
      "     Row(symbol='MSFT', open='70.09', high='71.25', low='69.92', close='71.21', volume='26803888')\n",
      "     Row(symbol='NTES', open='320', high='333.78', low='319', close='333.56', volume='1356386')\n"
     ]
    }
   ],
   "source": [
    "from collections import namedtuple\n",
    "print(\"Reading as named tuples\")\n",
    "\n",
    "with open('stocks.csv') as f:\n",
    "    f_csv = csv.reader(f)\n",
    "    Row = namedtuple('Row', next(f_csv))\n",
    "    for r in f_csv:\n",
    "        row = Row(*r)\n",
    "        print('    ', row)"
   ]
  },
  {
   "cell_type": "code",
   "execution_count": 28,
   "metadata": {
    "ExecuteTime": {
     "end_time": "2020-09-11T10:30:20.113394Z",
     "start_time": "2020-09-11T10:30:20.091408Z"
    }
   },
   "outputs": [],
   "source": [
    "with open('stocks.csv') as text_file, open('stockswrite.csv', 'w') as myfile:\n",
    "    #for line in text_file:\n",
    "        #print(line)\n",
    "        mylist = [tuple(i.split(',')) for i in text_file]\n",
    "        myfile.write(''.join('{} {} {} {} {} {}'.format(x[0],x[1],x[2],x[3],x[4],x[5]) for x in mylist))"
   ]
  },
  {
   "cell_type": "code",
   "execution_count": 29,
   "metadata": {
    "ExecuteTime": {
     "end_time": "2020-09-11T10:30:22.686703Z",
     "start_time": "2020-09-11T10:30:22.670712Z"
    }
   },
   "outputs": [
    {
     "name": "stdout",
     "output_type": "stream",
     "text": [
      "Reading as dictionaries\n"
     ]
    }
   ],
   "source": [
    "# (c) Reading as dictionaries\n",
    "print('Reading as dictionaries')"
   ]
  },
  {
   "cell_type": "code",
   "execution_count": 30,
   "metadata": {
    "ExecuteTime": {
     "end_time": "2020-09-11T10:30:23.628539Z",
     "start_time": "2020-09-11T10:30:23.607552Z"
    }
   },
   "outputs": [
    {
     "name": "stdout",
     "output_type": "stream",
     "text": [
      "     {'symbol': 'AAL', 'open': '49', 'high': '49.1', 'low': '48.47', 'close': '48.63', 'volume': '11901883'}\n",
      "     {'symbol': 'AAPL', 'open': '145.13', 'high': '147.16', 'low': '145.11', 'close': '146.28', 'volume': '33917635'}\n",
      "     {'symbol': 'ADBE', 'open': '143.75', 'high': '145.59', 'low': '143.06', 'close': '145.41', 'volume': '3383524'}\n",
      "     {'symbol': 'AMZN', 'open': '1002.54', 'high': '1004.62', 'low': '998.02', 'close': '1003.74', 'volume': '2832807'}\n",
      "     {'symbol': 'GOOGL', 'open': '975.5', 'high': '986.62', 'low': '974.46', 'close': '986.09', 'volume': '1524905'}\n",
      "     {'symbol': 'MAT', 'open': '20.22', 'high': '20.75', 'low': '20.11', 'close': '20.68', 'volume': '10603967'}\n",
      "     {'symbol': 'MSFT', 'open': '70.09', 'high': '71.25', 'low': '69.92', 'close': '71.21', 'volume': '26803888'}\n",
      "     {'symbol': 'NTES', 'open': '320', 'high': '333.78', 'low': '319', 'close': '333.56', 'volume': '1356386'}\n"
     ]
    }
   ],
   "source": [
    "with open('stocks.csv') as f:\n",
    "    f_csv = csv.DictReader(f)\n",
    "    for row in f_csv:\n",
    "        print('    ', row)"
   ]
  },
  {
   "cell_type": "code",
   "execution_count": 31,
   "metadata": {
    "ExecuteTime": {
     "end_time": "2020-09-02T09:08:57.283804Z",
     "start_time": "2020-09-02T09:08:57.273788Z"
    }
   },
   "outputs": [
    {
     "name": "stdout",
     "output_type": "stream",
     "text": [
      "Reading into tuples with type conversion\n"
     ]
    }
   ],
   "source": [
    "# (d) Reading into tuples with type conversion\n",
    "print('Reading into tuples with type conversion')"
   ]
  },
  {
   "cell_type": "code",
   "execution_count": 32,
   "metadata": {
    "ExecuteTime": {
     "end_time": "2020-09-02T10:20:30.793354Z",
     "start_time": "2020-09-02T10:20:30.768368Z"
    }
   },
   "outputs": [
    {
     "name": "stdout",
     "output_type": "stream",
     "text": [
      "('AAL', 49.0, '49.1', '48.47', 48.63, 11901883)\n",
      "('AAPL', 145.13, '147.16', '145.11', 146.28, 33917635)\n",
      "('ADBE', 143.75, '145.59', '143.06', 145.41, 3383524)\n",
      "('AMZN', 1002.54, '1004.62', '998.02', 1003.74, 2832807)\n",
      "('GOOGL', 975.5, '986.62', '974.46', 986.09, 1524905)\n",
      "('MAT', 20.22, '20.75', '20.11', 20.68, 10603967)\n",
      "('MSFT', 70.09, '71.25', '69.92', 71.21, 26803888)\n",
      "('NTES', 320.0, '333.78', '319', 333.56, 1356386)\n"
     ]
    }
   ],
   "source": [
    "col_types = [str, float, str, str, float, int]\n",
    "with open('stocks.csv') as f:\n",
    "    f_csv = csv.reader(f)\n",
    "    headers = next(f_csv)\n",
    "    for row in f_csv:\n",
    "        row = tuple(convert(value) for convert, value in zip(col_types, row))\n",
    "        print(row)"
   ]
  },
  {
   "cell_type": "code",
   "execution_count": null,
   "metadata": {
    "ExecuteTime": {
     "end_time": "2020-09-02T09:09:00.953002Z",
     "start_time": "2020-09-02T09:09:00.938989Z"
    }
   },
   "outputs": [],
   "source": [
    "# (e) Converting selected dict fields\n",
    "print('Reading as dicts with type conversion')"
   ]
  },
  {
   "cell_type": "code",
   "execution_count": null,
   "metadata": {},
   "outputs": [],
   "source": []
  }
 ],
 "metadata": {
  "kernelspec": {
   "display_name": "Python 3 (ipykernel)",
   "language": "python",
   "name": "python3"
  },
  "language_info": {
   "codemirror_mode": {
    "name": "ipython",
    "version": 3
   },
   "file_extension": ".py",
   "mimetype": "text/x-python",
   "name": "python",
   "nbconvert_exporter": "python",
   "pygments_lexer": "ipython3",
   "version": "3.10.9"
  }
 },
 "nbformat": 4,
 "nbformat_minor": 2
}
