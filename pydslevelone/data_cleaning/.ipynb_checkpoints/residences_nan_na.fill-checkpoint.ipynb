{
 "cells": [
  {
   "cell_type": "code",
   "execution_count": 15,
   "metadata": {},
   "outputs": [],
   "source": [
    "import matplotlib.pyplot as plt\n",
    "from sklearn.preprocessing import Normalizer\n",
    "from sklearn.preprocessing import Binarizer\n",
    "from sklearn.preprocessing import StandardScaler\n",
    "from sklearn.preprocessing import MinMaxScaler\n",
    "from numpy import set_printoptions\n",
    "from pandas import read_csv"
   ]
  },
  {
   "cell_type": "code",
   "execution_count": 16,
   "metadata": {},
   "outputs": [],
   "source": [
    "filename = 'residence.csv'\n",
    "names = ['PID','HOUSE_NUMBER','CITY_NAME','OWN_OCCUPIED','NUM_BEDROOMS','NUM_BATHROOMS','SQ_FT']\n",
    "data = read_csv(filename,names = names)"
   ]
  },
  {
   "cell_type": "code",
   "execution_count": 17,
   "metadata": {},
   "outputs": [
    {
     "name": "stdout",
     "output_type": "stream",
     "text": [
      "      PID  HOUSE_NUMBER      CITY_NAME OWN_OCCUPIED NUM_BEDROOMS  \\\n",
      "0  3425.0         104.0      Bangalore            Y            3   \n",
      "1  6758.0         197.0       NewDelhi            N            3   \n",
      "2  2333.0           NaN         Jaipur            N          NaN   \n",
      "3  4545.0         201.0         Hassan          NaN            1   \n",
      "4     NaN         203.0  Vishakapatnam            Y            3   \n",
      "5  7877.0         207.0         Meerut            Y          NaN   \n",
      "6  9897.0           NaN        Madurai          NaN            2   \n",
      "7  9291.0         213.0     Chandigarh            Y            1   \n",
      "8  4532.0         215.0        Calicut            Y           na   \n",
      "\n",
      "   NUM_BATHROOMS   SQ_FT  \n",
      "0            1.0  1000.0  \n",
      "1            1.5     NaN  \n",
      "2            1.0   850.0  \n",
      "3            NaN   700.0  \n",
      "4            2.0  1600.0  \n",
      "5            1.0   800.0  \n",
      "6            NaN   950.0  \n",
      "7            1.0     NaN  \n",
      "8            2.0  1800.0  \n"
     ]
    }
   ],
   "source": [
    "print(data)"
   ]
  },
  {
   "cell_type": "code",
   "execution_count": 18,
   "metadata": {},
   "outputs": [
    {
     "name": "stdout",
     "output_type": "stream",
     "text": [
      "     PID  HOUSE_NUMBER  CITY_NAME  OWN_OCCUPIED  NUM_BEDROOMS  NUM_BATHROOMS  \\\n",
      "0   True          True       True          True          True           True   \n",
      "1   True          True       True          True          True           True   \n",
      "2   True         False       True          True         False           True   \n",
      "3   True          True       True         False          True          False   \n",
      "4  False          True       True          True          True           True   \n",
      "5   True          True       True          True         False           True   \n",
      "6   True         False       True         False          True          False   \n",
      "7   True          True       True          True          True           True   \n",
      "8   True          True       True          True          True           True   \n",
      "\n",
      "   SQ_FT  \n",
      "0   True  \n",
      "1  False  \n",
      "2   True  \n",
      "3   True  \n",
      "4   True  \n",
      "5   True  \n",
      "6   True  \n",
      "7  False  \n",
      "8   True  \n"
     ]
    }
   ],
   "source": [
    "print(data.notnull())"
   ]
  },
  {
   "cell_type": "code",
   "execution_count": 19,
   "metadata": {},
   "outputs": [
    {
     "name": "stdout",
     "output_type": "stream",
     "text": [
      "      PID  HOUSE_NUMBER      CITY_NAME OWN_OCCUPIED NUM_BEDROOMS  \\\n",
      "0  3425.0         104.0      Bangalore            Y            3   \n",
      "1  6758.0         197.0       NewDelhi            N            3   \n",
      "2  2333.0           0.0         Jaipur            N            0   \n",
      "3  4545.0         201.0         Hassan            0            1   \n",
      "4     0.0         203.0  Vishakapatnam            Y            3   \n",
      "5  7877.0         207.0         Meerut            Y            0   \n",
      "6  9897.0           0.0        Madurai            0            2   \n",
      "7  9291.0         213.0     Chandigarh            Y            1   \n",
      "8  4532.0         215.0        Calicut            Y           na   \n",
      "\n",
      "   NUM_BATHROOMS   SQ_FT  \n",
      "0            1.0  1000.0  \n",
      "1            1.5     0.0  \n",
      "2            1.0   850.0  \n",
      "3            0.0   700.0  \n",
      "4            2.0  1600.0  \n",
      "5            1.0   800.0  \n",
      "6            0.0   950.0  \n",
      "7            1.0     0.0  \n",
      "8            2.0  1800.0  \n"
     ]
    }
   ],
   "source": [
    "print(data.fillna(0))"
   ]
  },
  {
   "cell_type": "code",
   "execution_count": 20,
   "metadata": {},
   "outputs": [
    {
     "name": "stdout",
     "output_type": "stream",
     "text": [
      "      PID  HOUSE_NUMBER      CITY_NAME OWN_OCCUPIED NUM_BEDROOMS  \\\n",
      "0  3425.0         104.0      Bangalore            Y            3   \n",
      "1  6758.0         197.0       NewDelhi            N            3   \n",
      "2  2333.0         197.0         Jaipur            N            3   \n",
      "3  4545.0         201.0         Hassan            N            1   \n",
      "4  4545.0         203.0  Vishakapatnam            Y            3   \n",
      "5  7877.0         207.0         Meerut            Y            3   \n",
      "6  9897.0         207.0        Madurai            Y            2   \n",
      "7  9291.0         213.0     Chandigarh            Y            1   \n",
      "8  4532.0         215.0        Calicut            Y           na   \n",
      "\n",
      "   NUM_BATHROOMS   SQ_FT  \n",
      "0            1.0  1000.0  \n",
      "1            1.5  1000.0  \n",
      "2            1.0   850.0  \n",
      "3            1.0   700.0  \n",
      "4            2.0  1600.0  \n",
      "5            1.0   800.0  \n",
      "6            1.0   950.0  \n",
      "7            1.0   950.0  \n",
      "8            2.0  1800.0  \n"
     ]
    }
   ],
   "source": [
    "print(data.fillna(method = 'pad'))"
   ]
  },
  {
   "cell_type": "code",
   "execution_count": 22,
   "metadata": {},
   "outputs": [
    {
     "name": "stdout",
     "output_type": "stream",
     "text": [
      "      PID HOUSE_NUMBER      CITY_NAME OWN_OCCUPIED NUM_BEDROOMS  \\\n",
      "0  3425.0          104      Bangalore            Y            3   \n",
      "1  6758.0          197       NewDelhi            N            3   \n",
      "2  2333.0    NO NUMBER         Jaipur            N          NaN   \n",
      "3  4545.0          201         Hassan          NaN            1   \n",
      "4     NaN          203  Vishakapatnam            Y            3   \n",
      "5  7877.0          207         Meerut            Y          NaN   \n",
      "6  9897.0    NO NUMBER        Madurai          NaN            2   \n",
      "7  9291.0          213     Chandigarh            Y            1   \n",
      "8  4532.0          215        Calicut            Y           na   \n",
      "\n",
      "   NUM_BATHROOMS   SQ_FT  \n",
      "0            1.0  1000.0  \n",
      "1            1.5     NaN  \n",
      "2            1.0   850.0  \n",
      "3            NaN   700.0  \n",
      "4            2.0  1600.0  \n",
      "5            1.0   800.0  \n",
      "6            NaN   950.0  \n",
      "7            1.0     NaN  \n",
      "8            2.0  1800.0  \n"
     ]
    }
   ],
   "source": [
    "data[\"HOUSE_NUMBER\"].fillna(\"NO NUMBER\",inplace=True)\n",
    "print(data)"
   ]
  },
  {
   "cell_type": "code",
   "execution_count": 23,
   "metadata": {},
   "outputs": [
    {
     "name": "stdout",
     "output_type": "stream",
     "text": [
      "      PID HOUSE_NUMBER      CITY_NAME OWN_OCCUPIED NUM_BEDROOMS  \\\n",
      "0  3425.0          104      Bangalore            Y            3   \n",
      "1  6758.0          197       NewDelhi            N            3   \n",
      "2  2333.0    NO NUMBER         Jaipur            N          NaN   \n",
      "3  4545.0          201         Hassan            0            1   \n",
      "4     NaN          203  Vishakapatnam            Y            3   \n",
      "5  7877.0          207         Meerut            Y          NaN   \n",
      "6  9897.0    NO NUMBER        Madurai            0            2   \n",
      "7  9291.0          213     Chandigarh            Y            1   \n",
      "8  4532.0          215        Calicut            Y           na   \n",
      "\n",
      "   NUM_BATHROOMS   SQ_FT  \n",
      "0            1.0  1000.0  \n",
      "1            1.5     NaN  \n",
      "2            1.0   850.0  \n",
      "3            NaN   700.0  \n",
      "4            2.0  1600.0  \n",
      "5            1.0   800.0  \n",
      "6            NaN   950.0  \n",
      "7            1.0     NaN  \n",
      "8            2.0  1800.0  \n"
     ]
    }
   ],
   "source": [
    "data[\"OWN_OCCUPIED\"].fillna(0,inplace=True)\n",
    "print(data)"
   ]
  },
  {
   "cell_type": "code",
   "execution_count": 24,
   "metadata": {},
   "outputs": [
    {
     "ename": "NameError",
     "evalue": "name 'apply_regression' is not defined",
     "output_type": "error",
     "traceback": [
      "\u001b[1;31m---------------------------------------------------------------------------\u001b[0m",
      "\u001b[1;31mNameError\u001b[0m                                 Traceback (most recent call last)",
      "\u001b[1;32m<ipython-input-24-cab9d957849b>\u001b[0m in \u001b[0;36m<module>\u001b[1;34m\u001b[0m\n\u001b[1;32m----> 1\u001b[1;33m \u001b[0mdata\u001b[0m\u001b[1;33m[\u001b[0m\u001b[1;34m\"OWN_OCCUPIED\"\u001b[0m\u001b[1;33m]\u001b[0m\u001b[1;33m.\u001b[0m\u001b[0mfillna\u001b[0m\u001b[1;33m(\u001b[0m\u001b[0mapply_regression\u001b[0m\u001b[1;33m(\u001b[0m\u001b[0mdataset\u001b[0m\u001b[1;33m)\u001b[0m\u001b[1;33m,\u001b[0m\u001b[0minplace\u001b[0m\u001b[1;33m=\u001b[0m\u001b[1;32mTrue\u001b[0m\u001b[1;33m)\u001b[0m\u001b[1;33m\u001b[0m\u001b[1;33m\u001b[0m\u001b[0m\n\u001b[0m\u001b[0;32m      2\u001b[0m \u001b[0mprint\u001b[0m\u001b[1;33m(\u001b[0m\u001b[0mdata\u001b[0m\u001b[1;33m)\u001b[0m\u001b[1;33m\u001b[0m\u001b[1;33m\u001b[0m\u001b[0m\n",
      "\u001b[1;31mNameError\u001b[0m: name 'apply_regression' is not defined"
     ]
    }
   ],
   "source": [
    "data[\"OWN_OCCUPIED\"].fillna(apply_regression(dataset),inplace=True)\n",
    "print(data)"
   ]
  },
  {
   "cell_type": "code",
   "execution_count": null,
   "metadata": {},
   "outputs": [],
   "source": []
  }
 ],
 "metadata": {
  "kernelspec": {
   "display_name": "Python 3 (ipykernel)",
   "language": "python",
   "name": "python3"
  },
  "language_info": {
   "codemirror_mode": {
    "name": "ipython",
    "version": 3
   },
   "file_extension": ".py",
   "mimetype": "text/x-python",
   "name": "python",
   "nbconvert_exporter": "python",
   "pygments_lexer": "ipython3",
   "version": "3.9.13"
  }
 },
 "nbformat": 4,
 "nbformat_minor": 2
}
